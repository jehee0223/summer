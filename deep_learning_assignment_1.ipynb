{
  "cells": [
    {
      "cell_type": "markdown",
      "metadata": {
        "id": "view-in-github",
        "colab_type": "text"
      },
      "source": [
        "<a href=\"https://colab.research.google.com/github/jehee0223/summer/blob/main/deep_learning_assignment_1.ipynb\" target=\"_parent\"><img src=\"https://colab.research.google.com/assets/colab-badge.svg\" alt=\"Open In Colab\"/></a>"
      ]
    },
    {
      "cell_type": "code",
      "execution_count": 167,
      "metadata": {
        "id": "xaxK0K8op0l9"
      },
      "outputs": [],
      "source": [
        "import pandas as pd\n",
        "\n",
        "red=pd.read_csv('http://archive.ics.uci.edu/ml/machine-learning-databases/wine-quality/winequality-red.csv',sep=';')"
      ]
    },
    {
      "cell_type": "code",
      "source": [
        "#문제1-1\n",
        "print(red.head(3))\n",
        "\n",
        "print('columns:',len(red.columns),'\\nrows: ',len(red.index))"
      ],
      "metadata": {
        "colab": {
          "base_uri": "https://localhost:8080/"
        },
        "id": "oyN5IEXbcOOV",
        "outputId": "49f43e70-9dce-45de-f852-edb5779737ec"
      },
      "execution_count": 170,
      "outputs": [
        {
          "output_type": "stream",
          "name": "stdout",
          "text": [
            "   fixed acidity  volatile acidity  citric acid  residual sugar  chlorides  \\\n",
            "0            7.4              0.70         0.00             1.9      0.076   \n",
            "1            7.8              0.88         0.00             2.6      0.098   \n",
            "2            7.8              0.76         0.04             2.3      0.092   \n",
            "\n",
            "   free sulfur dioxide  total sulfur dioxide  density    pH  sulphates  \\\n",
            "0                 11.0                  34.0   0.9978  3.51       0.56   \n",
            "1                 25.0                  67.0   0.9968  3.20       0.68   \n",
            "2                 15.0                  54.0   0.9970  3.26       0.65   \n",
            "\n",
            "   alcohol  quality  \n",
            "0      9.4        5  \n",
            "1      9.8        5  \n",
            "2      9.8        5  \n",
            "columns: 12 \n",
            "rows:  1599\n"
          ]
        }
      ]
    },
    {
      "cell_type": "code",
      "source": [
        "#문제1-2\n",
        "red1=red[['fixed acidity','citric acid','residual sugar','density','pH']]\n",
        "print(red1.head(5))"
      ],
      "metadata": {
        "colab": {
          "base_uri": "https://localhost:8080/"
        },
        "id": "3hpaCwe2dHAc",
        "outputId": "36b0ec72-7928-455d-ff13-56328f553125"
      },
      "execution_count": 171,
      "outputs": [
        {
          "output_type": "stream",
          "name": "stdout",
          "text": [
            "   fixed acidity  citric acid  residual sugar  density    pH\n",
            "0            7.4         0.00             1.9   0.9978  3.51\n",
            "1            7.8         0.00             2.6   0.9968  3.20\n",
            "2            7.8         0.04             2.3   0.9970  3.26\n",
            "3           11.2         0.56             1.9   0.9980  3.16\n",
            "4            7.4         0.00             1.9   0.9978  3.51\n"
          ]
        }
      ]
    },
    {
      "cell_type": "code",
      "source": [
        "#문제1-3\n",
        "red2=red1.rename(columns={'fixed acidity':'jh'})\n",
        "print(red2.T.head(5))"
      ],
      "metadata": {
        "colab": {
          "base_uri": "https://localhost:8080/"
        },
        "id": "8u1aBA88eKcG",
        "outputId": "646fd373-e7b9-44d8-fa1f-14574ae5e2e6"
      },
      "execution_count": 172,
      "outputs": [
        {
          "output_type": "stream",
          "name": "stdout",
          "text": [
            "                  0       1      2       3       4       5       6       7     \\\n",
            "jh              7.4000  7.8000  7.800  11.200  7.4000  7.4000  7.9000  7.3000   \n",
            "citric acid     0.0000  0.0000  0.040   0.560  0.0000  0.0000  0.0600  0.0000   \n",
            "residual sugar  1.9000  2.6000  2.300   1.900  1.9000  1.8000  1.6000  1.2000   \n",
            "density         0.9978  0.9968  0.997   0.998  0.9978  0.9978  0.9964  0.9946   \n",
            "pH              3.5100  3.2000  3.260   3.160  3.5100  3.5100  3.3000  3.3900   \n",
            "\n",
            "                  8       9     ...    1589     1590     1591     1592  \\\n",
            "jh              7.8000  7.5000  ...  6.6000  6.30000  5.40000  6.30000   \n",
            "citric acid     0.0200  0.3600  ...  0.2000  0.15000  0.09000  0.13000   \n",
            "residual sugar  2.0000  6.1000  ...  7.8000  1.80000  1.70000  2.30000   \n",
            "density         0.9968  0.9978  ...  0.9977  0.99314  0.99402  0.99574   \n",
            "pH              3.3600  3.3500  ...  3.2900  3.32000  3.67000  3.42000   \n",
            "\n",
            "                   1593    1594     1595     1596     1597     1598  \n",
            "jh              6.80000  6.2000  5.90000  6.30000  5.90000  6.00000  \n",
            "citric acid     0.08000  0.0800  0.10000  0.13000  0.12000  0.47000  \n",
            "residual sugar  1.90000  2.0000  2.20000  2.30000  2.00000  3.60000  \n",
            "density         0.99651  0.9949  0.99512  0.99574  0.99547  0.99549  \n",
            "pH              3.42000  3.4500  3.52000  3.42000  3.57000  3.39000  \n",
            "\n",
            "[5 rows x 1599 columns]\n"
          ]
        }
      ]
    },
    {
      "cell_type": "code",
      "source": [
        "#문제2-1\n",
        "import pandas as pd\n",
        "import numpy as np\n",
        "import random\n",
        "\n",
        "data=[]\n",
        "\n",
        "for row in range(0,5):\n",
        "  a=[]\n",
        "  for columns in range(0,3):\n",
        "    a.append(random.randrange(100))\n",
        "  data.append(a)\n",
        "data=pd.DataFrame(data,columns=['a','b','c',],index=['d','e','f','g','h'])\n",
        "print(data)"
      ],
      "metadata": {
        "colab": {
          "base_uri": "https://localhost:8080/"
        },
        "id": "9vHN4y-ve3HV",
        "outputId": "b5d934b7-386b-4bea-aacc-067035311659"
      },
      "execution_count": 127,
      "outputs": [
        {
          "output_type": "stream",
          "name": "stdout",
          "text": [
            "    a   b   c\n",
            "d  23  67  10\n",
            "e  38  13  12\n",
            "f  60  71  82\n",
            "g   5  21  24\n",
            "h  60  46  63\n"
          ]
        }
      ]
    },
    {
      "cell_type": "code",
      "source": [
        "#문제2-2\n",
        "a=data.iloc[:3,:2]\n",
        "b=data.iloc[:3,2:]\n",
        "c=data.iloc[3:,:2]\n",
        "d=data.iloc[3:,2:]\n",
        "\n",
        "print(a,\"\\n\")\n",
        "print(b,\"\\n\")\n",
        "print(c,\"\\n\")\n",
        "print(d,\"\\n\")"
      ],
      "metadata": {
        "colab": {
          "base_uri": "https://localhost:8080/"
        },
        "id": "Y0Q4nEqHg5gm",
        "outputId": "49418ae6-81e4-4d0b-f193-8089c6adfa67"
      },
      "execution_count": 173,
      "outputs": [
        {
          "output_type": "stream",
          "name": "stdout",
          "text": [
            "    a   b\n",
            "d  23  67\n",
            "e  38  13\n",
            "f  60  71 \n",
            "\n",
            "    c\n",
            "d  10\n",
            "e  12\n",
            "f  82 \n",
            "\n",
            "    a   b\n",
            "g   5  21\n",
            "h  60  46 \n",
            "\n",
            "    c\n",
            "g  24\n",
            "h  63 \n",
            "\n"
          ]
        }
      ]
    },
    {
      "cell_type": "code",
      "source": [
        "#문제2-3\n",
        "datasum=[]\n",
        "dataaver=[]\n",
        "\n",
        "for i in('a','b','c'):\n",
        "  sum=0\n",
        "  for j in('d','e','f','g','h'):\n",
        "    sum+=data.loc[j,i]\n",
        "  datasum.append(sum)\n",
        "for i in datasum:\n",
        "  dataaver.append(i/5)\n",
        "\n",
        "newdata=pd.DataFrame(columns=['a','b','c'],index=['sum','aver'])\n",
        "newdata.loc['sum']=datasum\n",
        "newdata.loc['aver']=dataaver\n",
        "print(newdata)\n"
      ],
      "metadata": {
        "colab": {
          "base_uri": "https://localhost:8080/"
        },
        "id": "Psoh07afhzIL",
        "outputId": "58fa103d-25e2-456a-ba2a-39be469d364d"
      },
      "execution_count": 129,
      "outputs": [
        {
          "output_type": "stream",
          "name": "stdout",
          "text": [
            "         a     b     c\n",
            "sum    186   218   191\n",
            "aver  37.2  43.6  38.2\n"
          ]
        }
      ]
    },
    {
      "cell_type": "code",
      "source": [
        "#문제2-4\n",
        "\n",
        "num2data=pd.concat([data,newdata],axis=0)\n",
        "print(num2data)"
      ],
      "metadata": {
        "colab": {
          "base_uri": "https://localhost:8080/"
        },
        "id": "d2T2yYeknjwT",
        "outputId": "fbda96e5-86fb-4cb9-acca-d452e71124af"
      },
      "execution_count": 133,
      "outputs": [
        {
          "output_type": "stream",
          "name": "stdout",
          "text": [
            "         a     b     c\n",
            "d       23    67    10\n",
            "e       38    13    12\n",
            "f       60    71    82\n",
            "g        5    21    24\n",
            "h       60    46    63\n",
            "sum    186   218   191\n",
            "aver  37.2  43.6  38.2\n"
          ]
        }
      ]
    },
    {
      "cell_type": "code",
      "source": [
        "#문제3-1\n",
        "\n",
        "%matplotlib inline\n",
        "from sklearn.datasets import load_digits\n",
        "digits = load_digits()\n",
        "print(\"Image Data Shape\" , digits.data.shape)\n",
        "print(\"Label Data Shape\", digits.target.shape)\n",
        "\n",
        "import numpy as np\n",
        "import matplotlib.pyplot as plt\n",
        "\n",
        "plt.figure(figsize=(20,4))\n",
        "for index, (image, label) in enumerate(zip(digits.data[5:10], digits.target[5:10])):\n",
        "    plt.subplot(1, 5, index + 1)\n",
        "    plt.imshow(np.reshape(image, (8,8)), cmap=plt.cm.gray)\n",
        "    plt.title('Training: %i\\n' % label, fontsize = 20)\n",
        "\n",
        "predictions = logisticRegr.predict(x_test)\n",
        "score = logisticRegr.score(x_test, y_test)\n",
        "print(score)"
      ],
      "metadata": {
        "colab": {
          "base_uri": "https://localhost:8080/",
          "height": 303
        },
        "id": "-9wndvoT2CwN",
        "outputId": "176220c6-b5a3-4a2c-dd3d-4bd7a7791bea"
      },
      "execution_count": 176,
      "outputs": [
        {
          "output_type": "stream",
          "name": "stdout",
          "text": [
            "Image Data Shape (1797, 64)\n",
            "Label Data Shape (1797,)\n",
            "0.9511111111111111\n"
          ]
        },
        {
          "output_type": "display_data",
          "data": {
            "text/plain": [
              "<Figure size 2000x400 with 5 Axes>"
            ],
            "image/png": "[encoded data removed]"
          },
          "metadata": {}
        }
      ]
    },
    {
      "cell_type": "code",
      "source": [
        "#문제3-2\n",
        "\n",
        "%matplotlib inline\n",
        "from sklearn.datasets import load_digits\n",
        "digits = load_digits()\n",
        "print(\"Image Data Shape\" , digits.data.shape)\n",
        "print(\"Label Data Shape\", digits.target.shape)\n",
        "\n",
        "import numpy as np\n",
        "import matplotlib.pyplot as plt\n",
        "from PIL import Image\n",
        "#여기에 변수 추가하기\n",
        "img6=Image.open('6.png').convert(\"L\")\n",
        "img6=np.array(img6)\n",
        "img6=img6/255.0\n",
        "img6=img6.flatten()\n",
        "img7=Image.open('7.png').convert(\"L\")\n",
        "img7=np.array(img7)\n",
        "img7=img7/255.0\n",
        "img7=img7.flatten()\n",
        "img9=Image.open('9.png').convert(\"L\")\n",
        "img9=np.array(img9)\n",
        "img9=img9/255.0\n",
        "img9=img9.flatten()\n",
        "test_img=np.concatenate([[img6],[img7],[img9]])\n",
        "test_img.shape\n",
        "\n",
        "#이미지 표시\n",
        "index=0\n",
        "for i in (img6,img7,img9):\n",
        "  plt.subplot(1,3,index+1)\n",
        "  plt.imshow(np.reshape(i,(8,8)),cmap=plt.cm.gray)\n",
        "  index+=1\n",
        "\n",
        "from sklearn.model_selection import train_test_split\n",
        "x_train, x_test, y_train, y_test = train_test_split(digits.data, digits.target, test_size=0.25, random_state=0)\n",
        "\n",
        "from sklearn.linear_model import LogisticRegression\n",
        "logisticRegr = LogisticRegression()\n",
        "logisticRegr.fit(x_train, y_train)\n",
        "\n",
        "logisticRegr.predict(x_test[0].reshape(1,-1))\n",
        "logisticRegr.predict(x_test[0:10])\n",
        "\n",
        "predictions = logisticRegr.predict(test_img)\n",
        "print(\"예측값 : \",predictions)\n",
        "ans=np.array([6,7,9])\n",
        "print(\"정답값 : \",ans)\n",
        "score = logisticRegr.score(test_img.reshape(3,-1), ans)\n",
        "print(\"정확도 : \",score)"
      ],
      "metadata": {
        "colab": {
          "base_uri": "https://localhost:8080/",
          "height": 445
        },
        "id": "jBQ6DY9h88G2",
        "outputId": "91820257-521d-4fe8-d036-2d48c2f412e7"
      },
      "execution_count": 165,
      "outputs": [
        {
          "output_type": "stream",
          "name": "stdout",
          "text": [
            "Image Data Shape (1797, 64)\n",
            "Label Data Shape (1797,)\n"
          ]
        },
        {
          "output_type": "stream",
          "name": "stderr",
          "text": [
            "/usr/local/lib/python3.10/dist-packages/sklearn/linear_model/_logistic.py:458: ConvergenceWarning: lbfgs failed to converge (status=1):\n",
            "STOP: TOTAL NO. of ITERATIONS REACHED LIMIT.\n",
            "\n",
            "Increase the number of iterations (max_iter) or scale the data as shown in:\n",
            "    https://scikit-learn.org/stable/modules/preprocessing.html\n",
            "Please also refer to the documentation for alternative solver options:\n",
            "    https://scikit-learn.org/stable/modules/linear_model.html#logistic-regression\n",
            "  n_iter_i = _check_optimize_result(\n"
          ]
        },
        {
          "output_type": "stream",
          "name": "stdout",
          "text": [
            "예측값 :  [6 0 5]\n",
            "정답값 :  [6 7 9]\n",
            "정확도 :  0.3333333333333333\n"
          ]
        },
        {
          "output_type": "display_data",
          "data": {
            "text/plain": [
              "<Figure size 640x480 with 3 Axes>"
            ],
            "image/png": "[encoded data removed]"
          },
          "metadata": {}
        }
      ]
    },
    {
      "cell_type": "code",
      "source": [
        "# 문제 4-1\n",
        "import pandas as pd\n",
        "import numpy as np\n",
        "import matplotlib.pyplot as plt\n",
        "import seaborn as seabornInstance\n",
        "from sklearn.model_selection import train_test_split\n",
        "from sklearn.linear_model import LinearRegression\n",
        "from sklearn import metrics\n",
        "%matplotlib inline\n",
        "\n",
        "i=data.iloc[:,[0,2]]\n",
        "print(i)\n",
        "i.plot(x='a', y='c', style='o')\n",
        "plt.title('X & Y')\n",
        "plt.xlabel('x')\n",
        "plt.ylabel('y')\n",
        "plt.show()\n"
      ],
      "metadata": {
        "id": "MZGVhY9jNB_M",
        "colab": {
          "base_uri": "https://localhost:8080/",
          "height": 582
        },
        "outputId": "050b97a7-1fb1-47f1-a6d0-21dfa97b33e0"
      },
      "execution_count": 155,
      "outputs": [
        {
          "output_type": "stream",
          "name": "stdout",
          "text": [
            "    a   c\n",
            "d  23  10\n",
            "e  38  12\n",
            "f  60  82\n",
            "g   5  24\n",
            "h  60  63\n"
          ]
        },
        {
          "output_type": "display_data",
          "data": {
            "text/plain": [
              "<Figure size 640x480 with 1 Axes>"
            ],
            "image/png": "[encoded data removed]"
          },
          "metadata": {}
        }
      ]
    },
    {
      "cell_type": "code",
      "source": [
        "# 문제4-2\n",
        "\n",
        "# 3-25\n",
        "X = i['a'].values.reshape(-1,1)\n",
        "y = i['c'].values.reshape(-1,1)\n",
        "X_train, X_test, y_train, y_test = train_test_split(X, y, test_size=0.3, random_state=0)\n",
        "regressor = LinearRegression()\n",
        "regressor.fit(X_train, y_train)\n",
        "\n",
        "# 3-26\n",
        "y_pred = regressor.predict(X_test)\n",
        "df = pd.DataFrame({'Actual': y_test.flatten(), 'Predicted': y_pred.flatten()})\n",
        "df\n",
        "\n",
        "# 3-27\n",
        "plt.scatter(X_test, y_test,  color='gray')\n",
        "plt.plot(X_test, y_pred, color='red', linewidth=2)\n",
        "plt.show()"
      ],
      "metadata": {
        "colab": {
          "base_uri": "https://localhost:8080/",
          "height": 430
        },
        "id": "Fm1xZJ5NfPUd",
        "outputId": "8ac39072-28fb-49e8-86c9-9e6b74accdad"
      },
      "execution_count": 115,
      "outputs": [
        {
          "output_type": "display_data",
          "data": {
            "text/plain": [
              "<Figure size 640x480 with 1 Axes>"
            ],
            "image/png": "[encoded data removed]"
          },
          "metadata": {}
        }
      ]
    }
  ],
  "metadata": {
    "colab": {
      "provenance": [],
      "authorship_tag": "ABX9TyPik1Jgerlie+8/feZ5OUQ2",
      "include_colab_link": true
    },
    "kernelspec": {
      "display_name": "Python 3",
      "name": "python3"
    },
    "language_info": {
      "name": "python"
    }
  },
  "nbformat": 4,
  "nbformat_minor": 0
}